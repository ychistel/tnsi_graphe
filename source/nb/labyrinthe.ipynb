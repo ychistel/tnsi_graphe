{
 "cells": [
  {
   "cell_type": "code",
   "execution_count": 24,
   "metadata": {},
   "outputs": [
    {
     "data": {
      "image/png": "[encoded data removed]",
      "text/plain": [
       "<Figure size 432x288 with 1 Axes>"
      ]
     },
     "metadata": {},
     "output_type": "display_data"
    }
   ],
   "source": [
    "from pile import Pile,creer_pile\n",
    "\n",
    "N=5 # dimension longueur et largeur\n",
    "\n",
    "# tableau NxN des positions non visitées\n",
    "T=[[True]*N for _ in range(N)]\n",
    "\n",
    "entree = (0,0) # position de l'entrée\n",
    "sortie = (N-1,N-1) # position de la sortie\n",
    "\n",
    "from random import shuffle # permet le mélange d'une liste\n",
    "\n",
    "def voisins(pos):\n",
    "    \"\"\" Renvoie les positions voisines de pos non encore visitées\"\"\"\n",
    "    i,j=pos\n",
    "    liste=[]\n",
    "    for dx in (-1,1):\n",
    "        if 0<=i+dx<N and T[i+dx][j]:\n",
    "            liste.append((i+dx,j))\n",
    "        if 0<=j+dx<N and T[i][j+dx]:\n",
    "            liste.append((i,j+dx))\n",
    "    shuffle(liste)\n",
    "    return liste\n",
    "\n",
    "nbreVisites = 0 # compteur de cases visitées\n",
    "\n",
    "def interdire(pos): # interdit la visite d'une position\n",
    "    global nbreVisites\n",
    "    nbreVisites+=1\n",
    "    i,j=pos # i = pos[0] et j = pos[1]\n",
    "    T[i][j] = False\n",
    "    \n",
    "def positionNonVisitee(): # Encore une position à visiter ?\n",
    "    return nbreVisites < N**2\n",
    "\n",
    "def parcours():\n",
    "    \"\"\"\n",
    "    On construit le parcourt du labyrinthe avec sa solution entre entrée et sortie\n",
    "    dans un carré de NxN cases\n",
    "    \"\"\"\n",
    "    position=entree\n",
    "    filDariane = creer_pile()\n",
    "    filDariane.empiler(position)\n",
    "    visites=[position] # mémoire des positions visitées\n",
    "    while positionNonVisitee():\n",
    "        voisinage = voisins(position)\n",
    "        if voisinage == []: # retour arrière\n",
    "            filDariane.depiler()\n",
    "            position=filDariane.peek()\n",
    "            visites.append(position)\n",
    "        else:\n",
    "            position = voisinage[0] # avancement\n",
    "            filDariane.empiler(position)\n",
    "            visites.append(position)\n",
    "            interdire(position)\n",
    "    return visites\n",
    "\n",
    "def labyrinthe():\n",
    "    Laby=[[0]*(2*N+1) for _ in range(2*N+1)]\n",
    "    visites=parcours()\n",
    "    i0,j0=visites[0]\n",
    "    for k in range(1,len(visites)):\n",
    "        i1,j1 = visites[k]\n",
    "        Laby[2*i0+1][2*j0+1]=1 # percement du mur\n",
    "        Laby[2*i1+1][2*j1+1]=1\n",
    "        Laby[i0+i1+1][j0+j1+1]=1\n",
    "        i0,j0 = i1,j1\n",
    "    #entrée et sortie\n",
    "    Laby[2*entree[0]+1][0] = Laby[2*sortie[0]+1][2*N] = 1\n",
    "    return Laby\n",
    "\n",
    "Labyrinthe = labyrinthe()\n",
    "import matplotlib\n",
    "import matplotlib.pyplot as plt\n",
    "plt.imshow(Labyrinthe,interpolation='nearest',cmap=matplotlib.cm.gray)\n",
    "plt.xticks([])\n",
    "plt.yticks([])\n",
    "plt.show()"
   ]
  },
  {
   "cell_type": "code",
   "execution_count": null,
   "metadata": {},
   "outputs": [],
   "source": []
  }
 ],
 "metadata": {
  "kernelspec": {
   "display_name": "Python 3",
   "language": "python",
   "name": "python3"
  },
  "language_info": {
   "codemirror_mode": {
    "name": "ipython",
    "version": 3
   },
   "file_extension": ".py",
   "mimetype": "text/x-python",
   "name": "python",
   "nbconvert_exporter": "python",
   "pygments_lexer": "ipython3",
   "version": "3.8.2"
  }
 },
 "nbformat": 4,
 "nbformat_minor": 4
}
